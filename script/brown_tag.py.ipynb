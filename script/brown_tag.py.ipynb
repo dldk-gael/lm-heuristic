{
 "cells": [
  {
   "cell_type": "code",
   "execution_count": 26,
   "metadata": {},
   "outputs": [],
   "source": [
    "from nltk.corpus import brown\n",
    "from nltk.grammar import Production, Nonterminal\n",
    "from tqdm.notebook import tqdm\n",
    "import pickle "
   ]
  },
  {
   "cell_type": "code",
   "execution_count": 10,
   "metadata": {},
   "outputs": [
    {
     "data": {
      "application/vnd.jupyter.widget-view+json": {
       "model_id": "474b59e3f67a4939a68bef4418a26e40",
       "version_major": 2,
       "version_minor": 0
      },
      "text/plain": [
       "HBox(children=(FloatProgress(value=0.0, max=1161192.0), HTML(value='')))"
      ]
     },
     "metadata": {},
     "output_type": "display_data"
    },
    {
     "name": "stdout",
     "output_type": "stream",
     "text": [
      "\n"
     ]
    }
   ],
   "source": [
    "tag_words = dict()\n",
    "\n",
    "for word, pos in tqdm(brown.tagged_words()):\n",
    "    tag_words.setdefault(word, set())\n",
    "    raw_pos = pos.split(\"-\")[0] # remove -TL or -NL information\n",
    "    tag_words[word].add(raw_pos)"
   ]
  },
  {
   "cell_type": "code",
   "execution_count": 18,
   "metadata": {},
   "outputs": [],
   "source": [
    "production_dict = {}\n",
    "for word in tag_words.keys():\n",
    "    production_dict[word] = []\n",
    "    for pos in tag_words[word]:\n",
    "        new_prod = Production(lhs=Nonterminal(pos), rhs=(word,))\n",
    "        production_dict[word].append(new_prod)"
   ]
  },
  {
   "cell_type": "code",
   "execution_count": 20,
   "metadata": {},
   "outputs": [
    {
     "data": {
      "text/plain": [
       "56057"
      ]
     },
     "execution_count": 20,
     "metadata": {},
     "output_type": "execute_result"
    }
   ],
   "source": [
    "len(production_dict)"
   ]
  },
  {
   "cell_type": "code",
   "execution_count": 27,
   "metadata": {},
   "outputs": [],
   "source": [
    "pickle.dump(production_dict, open(\"brown_pos_tag.pickle\", \"wb\"))"
   ]
  },
  {
   "cell_type": "code",
   "execution_count": null,
   "metadata": {},
   "outputs": [],
   "source": []
  }
 ],
 "metadata": {
  "kernelspec": {
   "display_name": "Python 3.7.7 64-bit ('lm-heuristic': conda)",
   "language": "python",
   "name": "python37764bitlmheuristiccondae65cc680f0324cb7bae9f9e122d6db5c"
  },
  "language_info": {
   "codemirror_mode": {
    "name": "ipython",
    "version": 3
   },
   "file_extension": ".py",
   "mimetype": "text/x-python",
   "name": "python",
   "nbconvert_exporter": "python",
   "pygments_lexer": "ipython3",
   "version": "3.7.7"
  }
 },
 "nbformat": 4,
 "nbformat_minor": 4
}
