{
 "cells": [
  {
   "cell_type": "code",
   "execution_count": 1,
   "metadata": {},
   "outputs": [],
   "source": [
    "from nltk.parse import CoreNLPParser\n",
    "from nltk.corpus import brown\n",
    "import pickle \n",
    "from tqdm import tqdm "
   ]
  },
  {
   "cell_type": "code",
   "execution_count": 2,
   "metadata": {},
   "outputs": [],
   "source": [
    "sentences = brown.sents()\n",
    "productions = []\n",
    "\n",
    "parser = CoreNLPParser(url='http://localhost:9000')"
   ]
  },
  {
   "cell_type": "code",
   "execution_count": 3,
   "metadata": {},
   "outputs": [
    {
     "name": "stdout",
     "output_type": "stream",
     "text": [
      "(ROOT\n",
      "  (S\n",
      "    (NP\n",
      "      (DT The)\n",
      "      (NNP Fulton)\n",
      "      (NML (NNP County) (NNP Grand))\n",
      "      (NNP Jury))\n",
      "    (VP\n",
      "      (VBD said)\n",
      "      (NP-TMP (NNP Friday))\n",
      "      (SBAR\n",
      "        (S\n",
      "          (NP\n",
      "            (NP (DT an) (NN investigation))\n",
      "            (PP\n",
      "              (IN of)\n",
      "              (NP\n",
      "                (NP (NNP Atlanta) (POS 's))\n",
      "                (JJ recent)\n",
      "                (JJ primary)\n",
      "                (NN election))))\n",
      "          (VP\n",
      "            (VBD produced)\n",
      "            (`` ``)\n",
      "            (NP (DT no) (NN evidence))\n",
      "            ('' '')\n",
      "            (SBAR\n",
      "              (IN that)\n",
      "              (S\n",
      "                (NP (DT any) (NNS irregularities))\n",
      "                (VP (VBD took) (NP (NN place)))))))))\n",
      "    (. .)))\n"
     ]
    },
    {
     "name": "stderr",
     "output_type": "stream",
     "text": [
      "  0%|          | 0/57340 [00:00<?, ?it/s]\n"
     ]
    }
   ],
   "source": [
    "for sentence in tqdm(sentences):\n",
    "    if len(sentence) >= 3 and len(sentence) <= 7\n",
    "        parse_tree = next(iter(parser.parse(sentence)))\n",
    "        productions += parse_tree.productions()"
   ]
  },
  {
   "cell_type": "code",
   "execution_count": 5,
   "metadata": {},
   "outputs": [
    {
     "data": {
      "text/plain": [
       "[ROOT -> S,\n",
       " S -> NP VP .,\n",
       " NP -> DT NNP NML NNP,\n",
       " DT -> 'The',\n",
       " NNP -> 'Fulton',\n",
       " NML -> NNP NNP,\n",
       " NNP -> 'County',\n",
       " NNP -> 'Grand',\n",
       " NNP -> 'Jury',\n",
       " VP -> VBD NP-TMP SBAR,\n",
       " VBD -> 'said',\n",
       " NP-TMP -> NNP,\n",
       " NNP -> 'Friday',\n",
       " SBAR -> S,\n",
       " S -> NP VP,\n",
       " NP -> NP PP,\n",
       " NP -> DT NN,\n",
       " DT -> 'an',\n",
       " NN -> 'investigation',\n",
       " PP -> IN NP,\n",
       " IN -> 'of',\n",
       " NP -> NP JJ JJ NN,\n",
       " NP -> NNP POS,\n",
       " NNP -> 'Atlanta',\n",
       " POS -> \"'s\",\n",
       " JJ -> 'recent',\n",
       " JJ -> 'primary',\n",
       " NN -> 'election',\n",
       " VP -> VBD `` NP '' SBAR,\n",
       " VBD -> 'produced',\n",
       " `` -> '``',\n",
       " NP -> DT NN,\n",
       " DT -> 'no',\n",
       " NN -> 'evidence',\n",
       " '' -> \"''\",\n",
       " SBAR -> IN S,\n",
       " IN -> 'that',\n",
       " S -> NP VP,\n",
       " NP -> DT NNS,\n",
       " DT -> 'any',\n",
       " NNS -> 'irregularities',\n",
       " VP -> VBD NP,\n",
       " VBD -> 'took',\n",
       " NP -> NN,\n",
       " NN -> 'place',\n",
       " . -> '.']"
      ]
     },
     "execution_count": 5,
     "metadata": {},
     "output_type": "execute_result"
    }
   ],
   "source": [
    "productions"
   ]
  },
  {
   "cell_type": "code",
   "execution_count": null,
   "metadata": {},
   "outputs": [],
   "source": []
  }
 ],
 "metadata": {
  "kernelspec": {
   "display_name": "Python 3.7.7 64-bit ('lm-heuristic': conda)",
   "language": "python",
   "name": "python37764bitlmheuristiccondae65cc680f0324cb7bae9f9e122d6db5c"
  },
  "language_info": {
   "codemirror_mode": {
    "name": "ipython",
    "version": 3
   },
   "file_extension": ".py",
   "mimetype": "text/x-python",
   "name": "python",
   "nbconvert_exporter": "python",
   "pygments_lexer": "ipython3",
   "version": "3.7.7"
  }
 },
 "nbformat": 4,
 "nbformat_minor": 4
}
